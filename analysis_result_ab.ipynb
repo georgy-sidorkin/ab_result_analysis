{
 "cells": [
  {
   "cell_type": "markdown",
   "metadata": {},
   "source": [
    "## Задание 1. A/B–тестирование\n",
    "**1.1 Условие**\n",
    "\n",
    "Одной из основных задач аналитика в нашей команде является корректное проведение экспериментов. Для этого мы применяем метод A/B–тестирования. В ходе тестирования одной гипотезы целевой группе была предложена новая механика оплаты услуг на сайте, у контрольной группы оставалась базовая механика. В качестве задания Вам необходимо проанализировать итоги эксперимента и сделать вывод, стоит ли запускать новую механику оплаты на всех пользователей.\n",
    "\n",
    "**1.2 Входные данные**\n",
    "\n",
    "В качестве входных данных Вы имеете 4 csv-файла:\n",
    "\n",
    "- *groups.csv* - файл с информацией о принадлежности пользователя к контрольной или экспериментальной группе (А – контроль, B – целевая группа) \n",
    "- *groups_add.csv* - дополнительный файл с пользователями, который вам прислали спустя 2 дня после передачи данных\n",
    "- *active_studs.csv* - файл с информацией о пользователях, которые зашли на платформу в дни проведения эксперимента. \n",
    "- *checks.csv* - файл с информацией об оплатах пользователей в дни проведения эксперимента. \n",
    "\n",
    "**1.3 Вопросы**\n",
    "\n",
    "Предлагаем Вам ответить на следующие вопросы:\n",
    "\n",
    "- На какие метрики Вы смотрите в ходе анализа и почему?\n",
    "- Имеются ли различия в показателях и с чем они могут быть связаны?\n",
    "- Являются ли эти различия статистически значимыми?\n",
    "- Стоит ли запускать новую механику на всех пользователей?\n",
    "\n",
    "Данный список вопросов не является обязательным, и Вы можете при своём ответе опираться на собственный план.\n",
    "\n",
    "**1.4 Требования к ответу**\n",
    "\n",
    "При выполнении тестового задания необходимо использовать язык программирования Python. \n",
    "В файле обязательно должны быть комментарии к тем действиям, которые Вы выполняете с данными. \n",
    "Файл должен представлять собой законченный отчёт с выводами, сделанными в ходе исследования."
   ]
  },
  {
   "cell_type": "markdown",
   "metadata": {},
   "source": [
    "### Импортируем библиотеки"
   ]
  },
  {
   "cell_type": "code",
   "execution_count": 1,
   "metadata": {},
   "outputs": [],
   "source": [
    "import pandas as pd\n",
    "import numpy as np\n",
    "\n",
    "import requests\n",
    "import json\n",
    "from urllib.parse import urlencode\n",
    "\n",
    "from scipy.stats import mannwhitneyu, norm\n",
    "from tqdm.auto import tqdm\n",
    "\n",
    "import seaborn as sns\n",
    "import matplotlib.pyplot as plt\n",
    "\n",
    "%matplotlib inline\n",
    "sns.set(rc={'figure.figsize': (10, 6)}, style=\"whitegrid\")"
   ]
  },
  {
   "cell_type": "markdown",
   "metadata": {},
   "source": [
    "### Считываем данные"
   ]
  },
  {
   "cell_type": "code",
   "execution_count": 2,
   "metadata": {},
   "outputs": [],
   "source": [
    "groups_public_key = 'https://yadi.sk/d/58Us0DWOzuWAjg'  # Ссылка на groups.csv\n",
    "groups_add_public_key = 'https://yadi.sk/d/3aARY-P9pfaksg'  # Ссылка на groups_add.csv\n",
    "active_studs_public_key = 'https://yadi.sk/d/prbgU-rZpiXVYg'  # Ссылка на active_studs.csv\n",
    "checks_public_key = 'https://yadi.sk/d/84hTmELphW2sqQ'  # Ссылка на checks.csv"
   ]
  },
  {
   "cell_type": "code",
   "execution_count": 3,
   "metadata": {},
   "outputs": [],
   "source": [
    "# Функция считывания данных с Яндекс.Диск\n",
    "def read_data(public_key, sep=';'):    \n",
    "    base_url = 'https://cloud-api.yandex.net/v1/disk/public/resources/download?'\n",
    "    # Получаем загрузочную ссылку\n",
    "    final_url = base_url + urlencode(dict(public_key=public_key))\n",
    "    response = requests.get(final_url)\n",
    "    download_url = json.loads(response.text)['href']  # 'парсинг' ссылки на скачивание\n",
    "    \n",
    "    # Загружаем файл и сохраняем его в df\n",
    "    df = pd.read_csv(download_url, sep=sep, error_bad_lines=False, comment='#')\n",
    "    return df"
   ]
  },
  {
   "cell_type": "code",
   "execution_count": 4,
   "metadata": {},
   "outputs": [],
   "source": [
    "# Считываем данные\n",
    "groups = read_data(groups_public_key)\n",
    "groups_add = read_data(groups_add_public_key, sep=',')\n",
    "active_studs = read_data(active_studs_public_key)\n",
    "checks = read_data(checks_public_key)"
   ]
  },
  {
   "cell_type": "markdown",
   "metadata": {},
   "source": [
    "### Какие данные у нас имеются? \n",
    "Размеры датафреймов, типы данных, количество пропущенных значений"
   ]
  },
  {
   "cell_type": "code",
   "execution_count": 5,
   "metadata": {},
   "outputs": [
    {
     "name": "stdout",
     "output_type": "stream",
     "text": [
      "Размеры groups.csv: (74484, 2)\n",
      "Размеры groups_add.csv: (92, 2)\n",
      "Размеры active_studs.csv: (8341, 1)\n",
      "Размеры checks.csv: (541, 2)\n"
     ]
    }
   ],
   "source": [
    "# Размеры скачанных данных\n",
    "print('Размеры groups.csv:', groups.shape)\n",
    "print('Размеры groups_add.csv:', groups_add.shape)\n",
    "print('Размеры active_studs.csv:', active_studs.shape)\n",
    "print('Размеры checks.csv:', checks.shape)"
   ]
  },
  {
   "cell_type": "code",
   "execution_count": 6,
   "metadata": {},
   "outputs": [
    {
     "data": {
      "text/html": [
       "<div>\n",
       "<style scoped>\n",
       "    .dataframe tbody tr th:only-of-type {\n",
       "        vertical-align: middle;\n",
       "    }\n",
       "\n",
       "    .dataframe tbody tr th {\n",
       "        vertical-align: top;\n",
       "    }\n",
       "\n",
       "    .dataframe thead th {\n",
       "        text-align: right;\n",
       "    }\n",
       "</style>\n",
       "<table border=\"1\" class=\"dataframe\">\n",
       "  <thead>\n",
       "    <tr style=\"text-align: right;\">\n",
       "      <th></th>\n",
       "      <th>id</th>\n",
       "      <th>grp</th>\n",
       "    </tr>\n",
       "  </thead>\n",
       "  <tbody>\n",
       "    <tr>\n",
       "      <th>0</th>\n",
       "      <td>1489</td>\n",
       "      <td>B</td>\n",
       "    </tr>\n",
       "    <tr>\n",
       "      <th>1</th>\n",
       "      <td>1627</td>\n",
       "      <td>A</td>\n",
       "    </tr>\n",
       "    <tr>\n",
       "      <th>2</th>\n",
       "      <td>1768</td>\n",
       "      <td>B</td>\n",
       "    </tr>\n",
       "    <tr>\n",
       "      <th>3</th>\n",
       "      <td>1783</td>\n",
       "      <td>B</td>\n",
       "    </tr>\n",
       "    <tr>\n",
       "      <th>4</th>\n",
       "      <td>1794</td>\n",
       "      <td>A</td>\n",
       "    </tr>\n",
       "  </tbody>\n",
       "</table>\n",
       "</div>"
      ],
      "text/plain": [
       "     id grp\n",
       "0  1489   B\n",
       "1  1627   A\n",
       "2  1768   B\n",
       "3  1783   B\n",
       "4  1794   A"
      ]
     },
     "execution_count": 6,
     "metadata": {},
     "output_type": "execute_result"
    }
   ],
   "source": [
    "groups.head()"
   ]
  },
  {
   "cell_type": "code",
   "execution_count": 7,
   "metadata": {},
   "outputs": [
    {
     "data": {
      "text/plain": [
       "id      int64\n",
       "grp    object\n",
       "dtype: object"
      ]
     },
     "execution_count": 7,
     "metadata": {},
     "output_type": "execute_result"
    }
   ],
   "source": [
    "groups.dtypes"
   ]
  },
  {
   "cell_type": "code",
   "execution_count": 8,
   "metadata": {},
   "outputs": [
    {
     "data": {
      "text/plain": [
       "id     0\n",
       "grp    0\n",
       "dtype: int64"
      ]
     },
     "execution_count": 8,
     "metadata": {},
     "output_type": "execute_result"
    }
   ],
   "source": [
    "# Количество пропущенных значений\n",
    "groups.isna().sum()"
   ]
  },
  {
   "cell_type": "code",
   "execution_count": 9,
   "metadata": {},
   "outputs": [
    {
     "data": {
      "text/plain": [
       "True"
      ]
     },
     "execution_count": 9,
     "metadata": {},
     "output_type": "execute_result"
    }
   ],
   "source": [
    "# Проверка на дубликаты\n",
    "groups.id.count() == groups.id.nunique()"
   ]
  },
  {
   "cell_type": "code",
   "execution_count": 10,
   "metadata": {},
   "outputs": [
    {
     "data": {
      "text/html": [
       "<div>\n",
       "<style scoped>\n",
       "    .dataframe tbody tr th:only-of-type {\n",
       "        vertical-align: middle;\n",
       "    }\n",
       "\n",
       "    .dataframe tbody tr th {\n",
       "        vertical-align: top;\n",
       "    }\n",
       "\n",
       "    .dataframe thead th {\n",
       "        text-align: right;\n",
       "    }\n",
       "</style>\n",
       "<table border=\"1\" class=\"dataframe\">\n",
       "  <thead>\n",
       "    <tr style=\"text-align: right;\">\n",
       "      <th></th>\n",
       "      <th>id</th>\n",
       "      <th>grp</th>\n",
       "    </tr>\n",
       "  </thead>\n",
       "  <tbody>\n",
       "    <tr>\n",
       "      <th>0</th>\n",
       "      <td>5694584</td>\n",
       "      <td>B</td>\n",
       "    </tr>\n",
       "    <tr>\n",
       "      <th>1</th>\n",
       "      <td>5694830</td>\n",
       "      <td>B</td>\n",
       "    </tr>\n",
       "    <tr>\n",
       "      <th>2</th>\n",
       "      <td>5695057</td>\n",
       "      <td>B</td>\n",
       "    </tr>\n",
       "    <tr>\n",
       "      <th>3</th>\n",
       "      <td>5698872</td>\n",
       "      <td>B</td>\n",
       "    </tr>\n",
       "    <tr>\n",
       "      <th>4</th>\n",
       "      <td>5699067</td>\n",
       "      <td>B</td>\n",
       "    </tr>\n",
       "  </tbody>\n",
       "</table>\n",
       "</div>"
      ],
      "text/plain": [
       "        id grp\n",
       "0  5694584   B\n",
       "1  5694830   B\n",
       "2  5695057   B\n",
       "3  5698872   B\n",
       "4  5699067   B"
      ]
     },
     "execution_count": 10,
     "metadata": {},
     "output_type": "execute_result"
    }
   ],
   "source": [
    "groups_add.head()"
   ]
  },
  {
   "cell_type": "code",
   "execution_count": 11,
   "metadata": {},
   "outputs": [
    {
     "data": {
      "text/plain": [
       "id      int64\n",
       "grp    object\n",
       "dtype: object"
      ]
     },
     "execution_count": 11,
     "metadata": {},
     "output_type": "execute_result"
    }
   ],
   "source": [
    "groups_add.dtypes"
   ]
  },
  {
   "cell_type": "code",
   "execution_count": 12,
   "metadata": {},
   "outputs": [
    {
     "data": {
      "text/plain": [
       "id     0\n",
       "grp    0\n",
       "dtype: int64"
      ]
     },
     "execution_count": 12,
     "metadata": {},
     "output_type": "execute_result"
    }
   ],
   "source": [
    "# Количество пропущенных значений\n",
    "groups_add.isna().sum()"
   ]
  },
  {
   "cell_type": "code",
   "execution_count": 13,
   "metadata": {},
   "outputs": [
    {
     "data": {
      "text/plain": [
       "True"
      ]
     },
     "execution_count": 13,
     "metadata": {},
     "output_type": "execute_result"
    }
   ],
   "source": [
    "# Проверка на дубликаты\n",
    "groups_add.id.count() == groups_add.id.nunique()"
   ]
  },
  {
   "cell_type": "code",
   "execution_count": 14,
   "metadata": {},
   "outputs": [
    {
     "data": {
      "text/html": [
       "<div>\n",
       "<style scoped>\n",
       "    .dataframe tbody tr th:only-of-type {\n",
       "        vertical-align: middle;\n",
       "    }\n",
       "\n",
       "    .dataframe tbody tr th {\n",
       "        vertical-align: top;\n",
       "    }\n",
       "\n",
       "    .dataframe thead th {\n",
       "        text-align: right;\n",
       "    }\n",
       "</style>\n",
       "<table border=\"1\" class=\"dataframe\">\n",
       "  <thead>\n",
       "    <tr style=\"text-align: right;\">\n",
       "      <th></th>\n",
       "      <th>student_id</th>\n",
       "    </tr>\n",
       "  </thead>\n",
       "  <tbody>\n",
       "    <tr>\n",
       "      <th>0</th>\n",
       "      <td>581585</td>\n",
       "    </tr>\n",
       "    <tr>\n",
       "      <th>1</th>\n",
       "      <td>5723133</td>\n",
       "    </tr>\n",
       "    <tr>\n",
       "      <th>2</th>\n",
       "      <td>3276743</td>\n",
       "    </tr>\n",
       "    <tr>\n",
       "      <th>3</th>\n",
       "      <td>4238589</td>\n",
       "    </tr>\n",
       "    <tr>\n",
       "      <th>4</th>\n",
       "      <td>4475369</td>\n",
       "    </tr>\n",
       "  </tbody>\n",
       "</table>\n",
       "</div>"
      ],
      "text/plain": [
       "   student_id\n",
       "0      581585\n",
       "1     5723133\n",
       "2     3276743\n",
       "3     4238589\n",
       "4     4475369"
      ]
     },
     "execution_count": 14,
     "metadata": {},
     "output_type": "execute_result"
    }
   ],
   "source": [
    "active_studs.head()"
   ]
  },
  {
   "cell_type": "code",
   "execution_count": 15,
   "metadata": {},
   "outputs": [
    {
     "data": {
      "text/plain": [
       "student_id    int64\n",
       "dtype: object"
      ]
     },
     "execution_count": 15,
     "metadata": {},
     "output_type": "execute_result"
    }
   ],
   "source": [
    "active_studs.dtypes"
   ]
  },
  {
   "cell_type": "code",
   "execution_count": 16,
   "metadata": {},
   "outputs": [
    {
     "data": {
      "text/plain": [
       "True"
      ]
     },
     "execution_count": 16,
     "metadata": {},
     "output_type": "execute_result"
    }
   ],
   "source": [
    "# Проверка на дубликаты\n",
    "active_studs.student_id.count() == active_studs.student_id.nunique()"
   ]
  },
  {
   "cell_type": "code",
   "execution_count": 17,
   "metadata": {},
   "outputs": [
    {
     "data": {
      "text/html": [
       "<div>\n",
       "<style scoped>\n",
       "    .dataframe tbody tr th:only-of-type {\n",
       "        vertical-align: middle;\n",
       "    }\n",
       "\n",
       "    .dataframe tbody tr th {\n",
       "        vertical-align: top;\n",
       "    }\n",
       "\n",
       "    .dataframe thead th {\n",
       "        text-align: right;\n",
       "    }\n",
       "</style>\n",
       "<table border=\"1\" class=\"dataframe\">\n",
       "  <thead>\n",
       "    <tr style=\"text-align: right;\">\n",
       "      <th></th>\n",
       "      <th>student_id</th>\n",
       "      <th>rev</th>\n",
       "    </tr>\n",
       "  </thead>\n",
       "  <tbody>\n",
       "    <tr>\n",
       "      <th>0</th>\n",
       "      <td>1627</td>\n",
       "      <td>990.0</td>\n",
       "    </tr>\n",
       "    <tr>\n",
       "      <th>1</th>\n",
       "      <td>3185</td>\n",
       "      <td>690.0</td>\n",
       "    </tr>\n",
       "    <tr>\n",
       "      <th>2</th>\n",
       "      <td>25973</td>\n",
       "      <td>690.0</td>\n",
       "    </tr>\n",
       "    <tr>\n",
       "      <th>3</th>\n",
       "      <td>26280</td>\n",
       "      <td>690.0</td>\n",
       "    </tr>\n",
       "    <tr>\n",
       "      <th>4</th>\n",
       "      <td>100300</td>\n",
       "      <td>990.0</td>\n",
       "    </tr>\n",
       "  </tbody>\n",
       "</table>\n",
       "</div>"
      ],
      "text/plain": [
       "   student_id    rev\n",
       "0        1627  990.0\n",
       "1        3185  690.0\n",
       "2       25973  690.0\n",
       "3       26280  690.0\n",
       "4      100300  990.0"
      ]
     },
     "execution_count": 17,
     "metadata": {},
     "output_type": "execute_result"
    }
   ],
   "source": [
    "checks.head()"
   ]
  },
  {
   "cell_type": "code",
   "execution_count": 18,
   "metadata": {
    "scrolled": true
   },
   "outputs": [
    {
     "data": {
      "text/plain": [
       "student_id      int64\n",
       "rev           float64\n",
       "dtype: object"
      ]
     },
     "execution_count": 18,
     "metadata": {},
     "output_type": "execute_result"
    }
   ],
   "source": [
    "checks.dtypes"
   ]
  },
  {
   "cell_type": "code",
   "execution_count": 19,
   "metadata": {
    "scrolled": true
   },
   "outputs": [
    {
     "data": {
      "text/plain": [
       "student_id    0\n",
       "rev           0\n",
       "dtype: int64"
      ]
     },
     "execution_count": 19,
     "metadata": {},
     "output_type": "execute_result"
    }
   ],
   "source": [
    "# Количество пропущенных значений\n",
    "checks.isna().sum()"
   ]
  },
  {
   "cell_type": "code",
   "execution_count": 20,
   "metadata": {},
   "outputs": [
    {
     "data": {
      "text/plain": [
       "True"
      ]
     },
     "execution_count": 20,
     "metadata": {},
     "output_type": "execute_result"
    }
   ],
   "source": [
    "# Проверка на дубликаты\n",
    "checks.student_id.count() == checks.student_id.nunique()"
   ]
  },
  {
   "cell_type": "markdown",
   "metadata": {},
   "source": [
    "### Подготовка данных"
   ]
  },
  {
   "cell_type": "code",
   "execution_count": 21,
   "metadata": {},
   "outputs": [
    {
     "data": {
      "text/html": [
       "<div>\n",
       "<style scoped>\n",
       "    .dataframe tbody tr th:only-of-type {\n",
       "        vertical-align: middle;\n",
       "    }\n",
       "\n",
       "    .dataframe tbody tr th {\n",
       "        vertical-align: top;\n",
       "    }\n",
       "\n",
       "    .dataframe thead th {\n",
       "        text-align: right;\n",
       "    }\n",
       "</style>\n",
       "<table border=\"1\" class=\"dataframe\">\n",
       "  <thead>\n",
       "    <tr style=\"text-align: right;\">\n",
       "      <th></th>\n",
       "      <th>id</th>\n",
       "      <th>grp</th>\n",
       "    </tr>\n",
       "  </thead>\n",
       "  <tbody>\n",
       "    <tr>\n",
       "      <th>0</th>\n",
       "      <td>1489</td>\n",
       "      <td>B</td>\n",
       "    </tr>\n",
       "    <tr>\n",
       "      <th>1</th>\n",
       "      <td>1627</td>\n",
       "      <td>A</td>\n",
       "    </tr>\n",
       "    <tr>\n",
       "      <th>2</th>\n",
       "      <td>1768</td>\n",
       "      <td>B</td>\n",
       "    </tr>\n",
       "    <tr>\n",
       "      <th>3</th>\n",
       "      <td>1783</td>\n",
       "      <td>B</td>\n",
       "    </tr>\n",
       "    <tr>\n",
       "      <th>4</th>\n",
       "      <td>1794</td>\n",
       "      <td>A</td>\n",
       "    </tr>\n",
       "  </tbody>\n",
       "</table>\n",
       "</div>"
      ],
      "text/plain": [
       "     id grp\n",
       "0  1489   B\n",
       "1  1627   A\n",
       "2  1768   B\n",
       "3  1783   B\n",
       "4  1794   A"
      ]
     },
     "execution_count": 21,
     "metadata": {},
     "output_type": "execute_result"
    }
   ],
   "source": [
    "# Объединяем данные из groups и groups_add в один df\n",
    "full_groups = pd.concat([groups, groups_add])\n",
    "full_groups.head()"
   ]
  },
  {
   "cell_type": "code",
   "execution_count": 22,
   "metadata": {},
   "outputs": [
    {
     "data": {
      "text/plain": [
       "True"
      ]
     },
     "execution_count": 22,
     "metadata": {},
     "output_type": "execute_result"
    }
   ],
   "source": [
    "# Проверка на дубликаты\n",
    "full_groups.id.count() == full_groups.id.nunique()"
   ]
  },
  {
   "cell_type": "code",
   "execution_count": 23,
   "metadata": {},
   "outputs": [
    {
     "data": {
      "text/plain": [
       "grp\n",
       "B    80.3\n",
       "A    19.7\n",
       "dtype: float64"
      ]
     },
     "execution_count": 23,
     "metadata": {},
     "output_type": "execute_result"
    }
   ],
   "source": [
    "# Соотношение размеров групп\n",
    "full_groups.value_counts(subset='grp', normalize=True).mul(100).round(2)"
   ]
  },
  {
   "cell_type": "code",
   "execution_count": 24,
   "metadata": {},
   "outputs": [],
   "source": [
    "# Переименуем колонку student_id в id\n",
    "active_studs.rename(columns={'student_id': 'id'}, inplace=True)\n",
    "checks.rename(columns={'student_id': 'id'}, inplace=True)\n",
    "\n",
    "active_studs['active'] = 1"
   ]
  },
  {
   "cell_type": "code",
   "execution_count": 25,
   "metadata": {},
   "outputs": [
    {
     "data": {
      "text/html": [
       "<div>\n",
       "<style scoped>\n",
       "    .dataframe tbody tr th:only-of-type {\n",
       "        vertical-align: middle;\n",
       "    }\n",
       "\n",
       "    .dataframe tbody tr th {\n",
       "        vertical-align: top;\n",
       "    }\n",
       "\n",
       "    .dataframe thead th {\n",
       "        text-align: right;\n",
       "    }\n",
       "</style>\n",
       "<table border=\"1\" class=\"dataframe\">\n",
       "  <thead>\n",
       "    <tr style=\"text-align: right;\">\n",
       "      <th></th>\n",
       "      <th>id</th>\n",
       "      <th>grp</th>\n",
       "      <th>active</th>\n",
       "      <th>rev</th>\n",
       "    </tr>\n",
       "  </thead>\n",
       "  <tbody>\n",
       "    <tr>\n",
       "      <th>0</th>\n",
       "      <td>1489</td>\n",
       "      <td>B</td>\n",
       "      <td>0.0</td>\n",
       "      <td>0.0</td>\n",
       "    </tr>\n",
       "    <tr>\n",
       "      <th>1</th>\n",
       "      <td>1627</td>\n",
       "      <td>A</td>\n",
       "      <td>1.0</td>\n",
       "      <td>990.0</td>\n",
       "    </tr>\n",
       "    <tr>\n",
       "      <th>2</th>\n",
       "      <td>1768</td>\n",
       "      <td>B</td>\n",
       "      <td>0.0</td>\n",
       "      <td>0.0</td>\n",
       "    </tr>\n",
       "    <tr>\n",
       "      <th>3</th>\n",
       "      <td>1783</td>\n",
       "      <td>B</td>\n",
       "      <td>0.0</td>\n",
       "      <td>0.0</td>\n",
       "    </tr>\n",
       "    <tr>\n",
       "      <th>4</th>\n",
       "      <td>1794</td>\n",
       "      <td>A</td>\n",
       "      <td>0.0</td>\n",
       "      <td>0.0</td>\n",
       "    </tr>\n",
       "  </tbody>\n",
       "</table>\n",
       "</div>"
      ],
      "text/plain": [
       "     id grp  active    rev\n",
       "0  1489   B     0.0    0.0\n",
       "1  1627   A     1.0  990.0\n",
       "2  1768   B     0.0    0.0\n",
       "3  1783   B     0.0    0.0\n",
       "4  1794   A     0.0    0.0"
      ]
     },
     "execution_count": 25,
     "metadata": {},
     "output_type": "execute_result"
    }
   ],
   "source": [
    "# Собираем полный DF\n",
    "full_data = full_groups.merge(active_studs, how='left')\n",
    "full_data = full_data.merge(checks, how='left').fillna(0)\n",
    "full_data.head()"
   ]
  },
  {
   "cell_type": "code",
   "execution_count": 26,
   "metadata": {
    "scrolled": true
   },
   "outputs": [
    {
     "data": {
      "text/html": [
       "<div>\n",
       "<style scoped>\n",
       "    .dataframe tbody tr th:only-of-type {\n",
       "        vertical-align: middle;\n",
       "    }\n",
       "\n",
       "    .dataframe tbody tr th {\n",
       "        vertical-align: top;\n",
       "    }\n",
       "\n",
       "    .dataframe thead th {\n",
       "        text-align: right;\n",
       "    }\n",
       "</style>\n",
       "<table border=\"1\" class=\"dataframe\">\n",
       "  <thead>\n",
       "    <tr style=\"text-align: right;\">\n",
       "      <th></th>\n",
       "      <th>grp</th>\n",
       "      <th>id</th>\n",
       "    </tr>\n",
       "  </thead>\n",
       "  <tbody>\n",
       "    <tr>\n",
       "      <th>0</th>\n",
       "      <td>A</td>\n",
       "      <td>14693</td>\n",
       "    </tr>\n",
       "    <tr>\n",
       "      <th>1</th>\n",
       "      <td>B</td>\n",
       "      <td>59883</td>\n",
       "    </tr>\n",
       "  </tbody>\n",
       "</table>\n",
       "</div>"
      ],
      "text/plain": [
       "  grp     id\n",
       "0   A  14693\n",
       "1   B  59883"
      ]
     },
     "execution_count": 26,
     "metadata": {},
     "output_type": "execute_result"
    }
   ],
   "source": [
    "# Количество пользователей в группах\n",
    "group_size = full_data.groupby('grp', as_index=False) \\\n",
    "    .agg({'id': 'count'})\n",
    "\n",
    "a_full_size = group_size.id.values[0]  # Размер группы A\n",
    "b_full_size = group_size.id.values[1]  # Размер группы B\n",
    "\n",
    "group_size"
   ]
  },
  {
   "cell_type": "code",
   "execution_count": 27,
   "metadata": {},
   "outputs": [
    {
     "data": {
      "text/html": [
       "<div>\n",
       "<style scoped>\n",
       "    .dataframe tbody tr th:only-of-type {\n",
       "        vertical-align: middle;\n",
       "    }\n",
       "\n",
       "    .dataframe tbody tr th {\n",
       "        vertical-align: top;\n",
       "    }\n",
       "\n",
       "    .dataframe thead th {\n",
       "        text-align: right;\n",
       "    }\n",
       "</style>\n",
       "<table border=\"1\" class=\"dataframe\">\n",
       "  <thead>\n",
       "    <tr style=\"text-align: right;\">\n",
       "      <th></th>\n",
       "      <th>grp</th>\n",
       "      <th>id</th>\n",
       "    </tr>\n",
       "  </thead>\n",
       "  <tbody>\n",
       "    <tr>\n",
       "      <th>0</th>\n",
       "      <td>A</td>\n",
       "      <td>1538</td>\n",
       "    </tr>\n",
       "    <tr>\n",
       "      <th>1</th>\n",
       "      <td>B</td>\n",
       "      <td>6803</td>\n",
       "    </tr>\n",
       "  </tbody>\n",
       "</table>\n",
       "</div>"
      ],
      "text/plain": [
       "  grp    id\n",
       "0   A  1538\n",
       "1   B  6803"
      ]
     },
     "execution_count": 27,
     "metadata": {},
     "output_type": "execute_result"
    }
   ],
   "source": [
    "# Количество активных пользователей в группах\n",
    "active_size = full_data.query('active == 1') \\\n",
    "    .groupby('grp', as_index=False) \\\n",
    "    .agg({'id': 'count'})\n",
    "\n",
    "a_active_size = active_size.id.values[0]  # Количество активных пользователей в группе A\n",
    "b_active_size = active_size.id.values[1]  # Количество активных пользователей в группе B\n",
    "\n",
    "active_size"
   ]
  },
  {
   "cell_type": "code",
   "execution_count": 28,
   "metadata": {},
   "outputs": [
    {
     "data": {
      "text/html": [
       "<div>\n",
       "<style scoped>\n",
       "    .dataframe tbody tr th:only-of-type {\n",
       "        vertical-align: middle;\n",
       "    }\n",
       "\n",
       "    .dataframe tbody tr th {\n",
       "        vertical-align: top;\n",
       "    }\n",
       "\n",
       "    .dataframe thead th {\n",
       "        text-align: right;\n",
       "    }\n",
       "</style>\n",
       "<table border=\"1\" class=\"dataframe\">\n",
       "  <thead>\n",
       "    <tr style=\"text-align: right;\">\n",
       "      <th></th>\n",
       "      <th>grp</th>\n",
       "      <th>id</th>\n",
       "    </tr>\n",
       "  </thead>\n",
       "  <tbody>\n",
       "    <tr>\n",
       "      <th>0</th>\n",
       "      <td>A</td>\n",
       "      <td>107</td>\n",
       "    </tr>\n",
       "    <tr>\n",
       "      <th>1</th>\n",
       "      <td>B</td>\n",
       "      <td>434</td>\n",
       "    </tr>\n",
       "  </tbody>\n",
       "</table>\n",
       "</div>"
      ],
      "text/plain": [
       "  grp   id\n",
       "0   A  107\n",
       "1   B  434"
      ]
     },
     "execution_count": 28,
     "metadata": {},
     "output_type": "execute_result"
    }
   ],
   "source": [
    "# Количество покупателей в группах\n",
    "buyers_size = full_data.query('rev > 0') \\\n",
    "    .groupby('grp', as_index=False) \\\n",
    "    .agg({'id': 'count'})\n",
    "\n",
    "a_buyers_size = buyers_size.id.values[0]  # Количество покупателей в группе A\n",
    "b_buyers_size = buyers_size.id.values[1]  # Количество покупателей в группе B\n",
    "\n",
    "buyers_size"
   ]
  },
  {
   "cell_type": "code",
   "execution_count": 29,
   "metadata": {},
   "outputs": [
    {
     "data": {
      "text/html": [
       "<div>\n",
       "<style scoped>\n",
       "    .dataframe tbody tr th:only-of-type {\n",
       "        vertical-align: middle;\n",
       "    }\n",
       "\n",
       "    .dataframe tbody tr th {\n",
       "        vertical-align: top;\n",
       "    }\n",
       "\n",
       "    .dataframe thead th {\n",
       "        text-align: right;\n",
       "    }\n",
       "</style>\n",
       "<table border=\"1\" class=\"dataframe\">\n",
       "  <thead>\n",
       "    <tr style=\"text-align: right;\">\n",
       "      <th></th>\n",
       "      <th>grp</th>\n",
       "      <th>id</th>\n",
       "    </tr>\n",
       "  </thead>\n",
       "  <tbody>\n",
       "    <tr>\n",
       "      <th>0</th>\n",
       "      <td>A</td>\n",
       "      <td>29</td>\n",
       "    </tr>\n",
       "    <tr>\n",
       "      <th>1</th>\n",
       "      <td>B</td>\n",
       "      <td>120</td>\n",
       "    </tr>\n",
       "  </tbody>\n",
       "</table>\n",
       "</div>"
      ],
      "text/plain": [
       "  grp   id\n",
       "0   A   29\n",
       "1   B  120"
      ]
     },
     "execution_count": 29,
     "metadata": {},
     "output_type": "execute_result"
    }
   ],
   "source": [
    "# Необъяснимо, но факт\n",
    "# Пользователи, которые не были активны, но совершили покупку\n",
    "full_data.query('active == 0 and rev > 0') \\\n",
    "    .groupby('grp', as_index=False) \\\n",
    "    .agg({'id': 'count'})"
   ]
  },
  {
   "cell_type": "markdown",
   "metadata": {},
   "source": [
    "### Анализ данных\n"
   ]
  },
  {
   "cell_type": "markdown",
   "metadata": {},
   "source": [
    "Исходя из имеющихся данных, для рассмотрения были выбраны следующие метрики:\n",
    "- Конверсия пользователя в покупку\n",
    "- Конверсия активного пользователя в покупку\n",
    "- ARPU\n",
    "- ARPPU\n",
    "- ARPAU (доход с активного пользователя)\n",
    "- Медианный доход с покупателя\n",
    "\n",
    "Главное для бизнеса - рост выручки и чистой прибыли. Данные метрики покажут, как введение новой механики отразилось на доходах компании."
   ]
  },
  {
   "cell_type": "code",
   "execution_count": 30,
   "metadata": {},
   "outputs": [
    {
     "name": "stdout",
     "output_type": "stream",
     "text": [
      "CR пользователей группы A в покупку 0.73%\n",
      "CR пользователей группы B в покупку 0.72%\n",
      "CR активных пользователей группы A в покупку 6.96%\n",
      "CR активных пользователей группы B в покупку 6.38%\n"
     ]
    }
   ],
   "source": [
    "# CR пользователей в покупку\n",
    "# Для группы А\n",
    "cr_a = round((a_buyers_size / a_full_size) * 100, 2)  # Кол-во покупателей / Кол-во всех пользователей\n",
    "print(f'CR пользователей группы A в покупку {cr_a}%')\n",
    "\n",
    "# Для группы Б\n",
    "cr_b = round((b_buyers_size / b_full_size) * 100, 2)  # Кол-во покупателей / Кол-во всех пользователей\n",
    "print(f'CR пользователей группы B в покупку {cr_b}%')\n",
    "\n",
    "# CR активных пользователей в покупку\n",
    "# Для группы А\n",
    "cr_active_a = round((a_buyers_size / a_active_size) * 100, 2)  # Кол-во покупателей / Кол-во активных пользователей\n",
    "print(f'CR активных пользователей группы A в покупку {cr_active_a}%')\n",
    "\n",
    "# Для группы Б\n",
    "cr_active_b = round((b_buyers_size / b_active_size) * 100, 2)  # Кол-во покупателей / Кол-во активных пользователей\n",
    "print(f'CR активных пользователей группы B в покупку {cr_active_b}%')"
   ]
  },
  {
   "cell_type": "code",
   "execution_count": 31,
   "metadata": {},
   "outputs": [
    {
     "name": "stdout",
     "output_type": "stream",
     "text": [
      "10.47% пользователей группы A были активными в дни проведения теста\n",
      "11.36% пользователей группы B были активными в дни проведения теста\n"
     ]
    }
   ],
   "source": [
    "# Процент активных пользователей в дни проведения теста\n",
    "# Для группы А\n",
    "active_a = round((a_active_size / a_full_size) * 100, 2)  # Кол-во активных пользователей / Кол-во всех пользователей\n",
    "print(f'{active_a}% пользователей группы A были активными в дни проведения теста')\n",
    "\n",
    "# Для группы Б\n",
    "active_b = round((b_active_size / b_full_size) * 100, 2)  # Кол-во активных пользователей / Кол-во всех пользователей\n",
    "print(f'{active_b}% пользователей группы B были активными в дни проведения теста')"
   ]
  },
  {
   "cell_type": "code",
   "execution_count": 32,
   "metadata": {},
   "outputs": [
    {
     "data": {
      "text/html": [
       "<div>\n",
       "<style scoped>\n",
       "    .dataframe tbody tr th:only-of-type {\n",
       "        vertical-align: middle;\n",
       "    }\n",
       "\n",
       "    .dataframe tbody tr th {\n",
       "        vertical-align: top;\n",
       "    }\n",
       "\n",
       "    .dataframe thead th {\n",
       "        text-align: right;\n",
       "    }\n",
       "</style>\n",
       "<table border=\"1\" class=\"dataframe\">\n",
       "  <thead>\n",
       "    <tr style=\"text-align: right;\">\n",
       "      <th></th>\n",
       "      <th>grp</th>\n",
       "      <th>rev</th>\n",
       "      <th>users</th>\n",
       "      <th>active_users</th>\n",
       "      <th>buyers</th>\n",
       "      <th>ARPU</th>\n",
       "      <th>ARPAU</th>\n",
       "      <th>ARPPU</th>\n",
       "      <th>median_check</th>\n",
       "    </tr>\n",
       "  </thead>\n",
       "  <tbody>\n",
       "    <tr>\n",
       "      <th>0</th>\n",
       "      <td>A</td>\n",
       "      <td>92096.0000</td>\n",
       "      <td>14693</td>\n",
       "      <td>1538</td>\n",
       "      <td>107</td>\n",
       "      <td>6.27</td>\n",
       "      <td>59.88</td>\n",
       "      <td>860.71</td>\n",
       "      <td>690.0</td>\n",
       "    </tr>\n",
       "    <tr>\n",
       "      <th>1</th>\n",
       "      <td>B</td>\n",
       "      <td>481230.0036</td>\n",
       "      <td>59883</td>\n",
       "      <td>6803</td>\n",
       "      <td>434</td>\n",
       "      <td>8.04</td>\n",
       "      <td>70.74</td>\n",
       "      <td>1108.82</td>\n",
       "      <td>935.0</td>\n",
       "    </tr>\n",
       "  </tbody>\n",
       "</table>\n",
       "</div>"
      ],
      "text/plain": [
       "  grp          rev  users  active_users  buyers  ARPU  ARPAU    ARPPU  \\\n",
       "0   A   92096.0000  14693          1538     107  6.27  59.88   860.71   \n",
       "1   B  481230.0036  59883          6803     434  8.04  70.74  1108.82   \n",
       "\n",
       "   median_check  \n",
       "0         690.0  \n",
       "1         935.0  "
      ]
     },
     "execution_count": 32,
     "metadata": {},
     "output_type": "execute_result"
    }
   ],
   "source": [
    "# Доходы с каждой из групп\n",
    "revenue = full_data.groupby('grp', as_index=False).agg({'rev': 'sum'})\n",
    "\n",
    "revenue['users'] = group_size.id\n",
    "revenue['active_users'] = active_size.id\n",
    "revenue['buyers'] = buyers_size.id\n",
    "\n",
    "# ARPU в дни проведения теста\n",
    "revenue['ARPU'] = round(revenue.rev / revenue.users, 2)\n",
    "# ARPAU в дни проведения теста\n",
    "revenue['ARPAU'] = round(revenue.rev / revenue.active_users, 2)\n",
    "# ARPPU в дни проведения теста\n",
    "revenue['ARPPU'] = round(revenue.rev / revenue.buyers, 2)\n",
    "# Медианная чек покупателей в дни проведения теста\n",
    "revenue['median_check'] = full_data.query('rev > 0') \\\n",
    "    .groupby('grp', as_index=False) \\\n",
    "    .agg({'rev': 'median'}) \\\n",
    "    .rev.values\n",
    "\n",
    "revenue"
   ]
  },
  {
   "cell_type": "code",
   "execution_count": 33,
   "metadata": {},
   "outputs": [
    {
     "name": "stdout",
     "output_type": "stream",
     "text": [
      "ARPU в тестовой группе выросло на 28.23%\n",
      "ARPAU в тестовой группе вырос на 18.14%\n",
      "ARPPU в тестовой группе вырос на 28.83%\n",
      "Медианный чек в тестовой группе выросла на 35.51%\n"
     ]
    }
   ],
   "source": [
    "# Изменение ARPU в %\n",
    "arpu_diff = round((revenue.ARPU.iloc[1] / revenue.ARPU.iloc[0] - 1) * 100, 2)\n",
    "print(f'ARPU в тестовой группе выросло на {arpu_diff}%')\n",
    "\n",
    "# Изменение ARPAU в %\n",
    "arpau_diff = round((revenue.ARPAU.iloc[1] / revenue.ARPAU.iloc[0] - 1) * 100, 2)\n",
    "print(f'ARPAU в тестовой группе вырос на {arpau_diff}%')\n",
    "\n",
    "# Изменение ARPPU в %\n",
    "arppu_diff = round((revenue.ARPPU.iloc[1] / revenue.ARPPU.iloc[0] - 1) * 100, 2)\n",
    "print(f'ARPPU в тестовой группе вырос на {arppu_diff}%')\n",
    "\n",
    "# Изменение медианного чека покупателя в %\n",
    "median_diff = round((revenue.median_check.iloc[1] / revenue.median_check.iloc[0] - 1) * 100, 2)\n",
    "print(f'Медианный чек в тестовой группе выросла на {median_diff}%')"
   ]
  },
  {
   "cell_type": "markdown",
   "metadata": {},
   "source": [
    "### Распределение выборок"
   ]
  },
  {
   "cell_type": "code",
   "execution_count": 34,
   "metadata": {
    "scrolled": false
   },
   "outputs": [
    {
     "data": {
      "text/plain": [
       "<matplotlib.axes._subplots.AxesSubplot at 0x7f6f59090400>"
      ]
     },
     "execution_count": 34,
     "metadata": {},
     "output_type": "execute_result"
    },
    {
     "data": {
      "image/png": "[encoded data removed]",
      "text/plain": [
       "<Figure size 720x432 with 1 Axes>"
      ]
     },
     "metadata": {},
     "output_type": "display_data"
    }
   ],
   "source": [
    "# Boxplot по сумме покупок для каждой группы\n",
    "sns.boxplot(x=\"grp\", y=\"rev\", data=full_data.query('rev > 0'))"
   ]
  },
  {
   "cell_type": "code",
   "execution_count": 35,
   "metadata": {},
   "outputs": [
    {
     "data": {
      "image/png": "[encoded data removed]",
      "text/plain": [
       "<Figure size 720x432 with 1 Axes>"
      ]
     },
     "metadata": {},
     "output_type": "display_data"
    }
   ],
   "source": [
    "# Распределение суммы покупок в группе A\n",
    "ax = sns.histplot(data=full_data.query('(grp == \"A\") and (rev > 0)'), x='rev')\n",
    "\n",
    "plt.title('Distribution of average check in Group A', fontdict={'fontsize': 15})\n",
    "plt.xlabel('sum of revenue')\n",
    "plt.show()"
   ]
  },
  {
   "cell_type": "code",
   "execution_count": 36,
   "metadata": {},
   "outputs": [
    {
     "data": {
      "image/png": "[encoded data removed]",
      "text/plain": [
       "<Figure size 720x432 with 1 Axes>"
      ]
     },
     "metadata": {},
     "output_type": "display_data"
    }
   ],
   "source": [
    "# Распределение суммы покупок в группе B\n",
    "ax = sns.histplot(data=full_data.query('(grp == \"B\") and (rev > 0)'), x='rev')\n",
    "\n",
    "plt.title('Distribution of average check in Group B', fontdict={'fontsize': 15})\n",
    "plt.xlabel('sum of revenue')\n",
    "plt.show()"
   ]
  },
  {
   "cell_type": "markdown",
   "metadata": {},
   "source": [
    "*Распределение в группах сильно отличается от нормального. Для проверки равенства распределений используем **U-Критерий Манна-Уитни**.*\n",
    "*Для сравнения ARPAU, ARPPU и медианной суммы дохода с покупателя воспользуемся методом **bootstrap**.*"
   ]
  },
  {
   "cell_type": "markdown",
   "metadata": {},
   "source": [
    "### U-Критерий Манна-Уитни\n",
    "* Нулевая гипотеза H0: равенство распределений соблюдается\n",
    "* Альернативная гипотеза H1: равенство распределений не соблюдается\n",
    "* a = 0.05"
   ]
  },
  {
   "cell_type": "code",
   "execution_count": 37,
   "metadata": {},
   "outputs": [
    {
     "data": {
      "text/plain": [
       "MannwhitneyuResult(statistic=17862.0, pvalue=0.00019316054996380152)"
      ]
     },
     "execution_count": 37,
     "metadata": {},
     "output_type": "execute_result"
    }
   ],
   "source": [
    "mannwhitneyu(full_data.query('(grp == \"A\") and (rev > 0)').rev,\n",
    "             full_data.query('(grp == \"B\") and (rev > 0)').rev)"
   ]
  },
  {
   "cell_type": "markdown",
   "metadata": {},
   "source": [
    "*Вывод: поскольку p-value = 0.00019 < a = 0.05, то мы может  сделать вывод о том, что  равенство распределений в выборках не соблюдается*"
   ]
  },
  {
   "cell_type": "markdown",
   "metadata": {},
   "source": [
    "### Bootstrap\n",
    "#### Гипотезы:\n",
    "\n",
    "**Доход на активного пользователя**:\n",
    "* Нулевая гипотеза H0: Доходы на активного пользователя в группах равны\n",
    "* Альтернативная гипотеза H1: Доходы на активного пользователя в группах различаются\n",
    "* a = 0.05\n",
    "\n",
    "**ARPPU**:\n",
    "* Нулевая гипотеза H0: ARPPU в группах равны\n",
    "* Альтернативная гипотеза H1: ARPPU в группах различаются\n",
    "* a = 0.05\n",
    "\n",
    "**Медианная сумма покупок у пользователей, совершивших покупку**:\n",
    "* Нулевая гипотеза H0: Медианные суммы покупок в группах у пользователей, совершивших покупку, равны\n",
    "* Альтернативная гипотеза H1: Медианные суммы покупок в группах у пользователей, совершивших покупку, различаются\n",
    "* a = 0.05"
   ]
  },
  {
   "cell_type": "code",
   "execution_count": 38,
   "metadata": {},
   "outputs": [],
   "source": [
    "# Объявим функцию, которая позволит проверять гипотезы с помощью бутстрапа\n",
    "def get_bootstrap(\n",
    "    data_column_1,  # числовые значения первой выборки\n",
    "    data_column_2,  # числовые значения второй выборки\n",
    "    boot_it=1000,  # количество бутстрэп-подвыборок\n",
    "    statistic=np.mean,  # интересующая нас статистика\n",
    "    bootstrap_conf_level=0.95  # уровень значимости\n",
    "):\n",
    "    boot_len = max([len(data_column_1), len(data_column_2)])\n",
    "    boot_data = []\n",
    "    for i in tqdm(range(boot_it)):  # извлекаем подвыборки\n",
    "        samples_1 = data_column_1.sample(\n",
    "            boot_len, \n",
    "            replace=True  # параметр возвращения\n",
    "        ).values\n",
    "        \n",
    "        samples_2 = data_column_2.sample(\n",
    "            boot_len, \n",
    "            replace=True\n",
    "        ).values\n",
    "        \n",
    "        boot_data.append(statistic(samples_1 - samples_2))  # mean() - применяем статистику\n",
    "        \n",
    "    pd_boot_data = pd.DataFrame(boot_data)\n",
    "        \n",
    "    left_quant = (1 - bootstrap_conf_level) / 2\n",
    "    right_quant = 1 - (1 - bootstrap_conf_level) / 2\n",
    "    ci = pd_boot_data.quantile([left_quant, right_quant])\n",
    "        \n",
    "    p_1 = norm.cdf(\n",
    "        x=0, \n",
    "        loc=np.mean(boot_data), \n",
    "        scale=np.std(boot_data)\n",
    "    )\n",
    "    p_2 = norm.cdf(\n",
    "        x=0, \n",
    "        loc=-np.mean(boot_data), \n",
    "        scale=np.std(boot_data)\n",
    "    )\n",
    "    p_value = min(p_1, p_2) * 2\n",
    "        \n",
    "    # Визуализация\n",
    "    plt.figure(figsize=(8, 5))\n",
    "    plt.hist(pd_boot_data[0], bins=50)\n",
    "    \n",
    "    plt.style.use('ggplot')\n",
    "    plt.vlines(ci, ymin=0, ymax=150, linestyle='--')\n",
    "    plt.xlabel('boot_data')\n",
    "    plt.ylabel('frequency')\n",
    "    plt.title(\"Histogram of boot_data\")\n",
    "    plt.show()\n",
    "       \n",
    "    return {\"boot_data\": boot_data, \n",
    "            \"ci\": ci, \n",
    "            \"p_value\": p_value}"
   ]
  },
  {
   "cell_type": "code",
   "execution_count": 226,
   "metadata": {},
   "outputs": [
    {
     "data": {
      "application/vnd.jupyter.widget-view+json": {
       "model_id": "cbc93fa7f8cf4920b9e8796ef6679629",
       "version_major": 2,
       "version_minor": 0
      },
      "text/plain": [
       "HBox(children=(FloatProgress(value=0.0, max=10000.0), HTML(value='')))"
      ]
     },
     "metadata": {},
     "output_type": "display_data"
    },
    {
     "name": "stdout",
     "output_type": "stream",
     "text": [
      "\n"
     ]
    },
    {
     "data": {
      "image/png": "[encoded data removed]",
      "text/plain": [
       "<Figure size 576x360 with 1 Axes>"
      ]
     },
     "metadata": {},
     "output_type": "display_data"
    }
   ],
   "source": [
    "# bootstrap для средних значений ARPAU\n",
    "active_booted_mean = get_bootstrap(full_data.query('grp == \"B\" and active == 1').rev,  # Тестовая группа\n",
    "                                   full_data.query('grp == \"A\" and active == 1').rev,  # Контрольная группа\n",
    "                                   boot_it=10000,  # Количество бутстрэп-подвыборок\n",
    "                                   statistic=np.mean)  # Статистика для сравнения"
   ]
  },
  {
   "cell_type": "code",
   "execution_count": 227,
   "metadata": {},
   "outputs": [
    {
     "data": {
      "text/plain": [
       "0.03941394993681733"
      ]
     },
     "execution_count": 227,
     "metadata": {},
     "output_type": "execute_result"
    }
   ],
   "source": [
    "# p-value различий ARPAU\n",
    "active_booted_mean['p_value']"
   ]
  },
  {
   "cell_type": "code",
   "execution_count": 228,
   "metadata": {},
   "outputs": [
    {
     "data": {
      "text/html": [
       "<div>\n",
       "<style scoped>\n",
       "    .dataframe tbody tr th:only-of-type {\n",
       "        vertical-align: middle;\n",
       "    }\n",
       "\n",
       "    .dataframe tbody tr th {\n",
       "        vertical-align: top;\n",
       "    }\n",
       "\n",
       "    .dataframe thead th {\n",
       "        text-align: right;\n",
       "    }\n",
       "</style>\n",
       "<table border=\"1\" class=\"dataframe\">\n",
       "  <thead>\n",
       "    <tr style=\"text-align: right;\">\n",
       "      <th></th>\n",
       "      <th>0</th>\n",
       "    </tr>\n",
       "  </thead>\n",
       "  <tbody>\n",
       "    <tr>\n",
       "      <th>0.025</th>\n",
       "      <td>0.342316</td>\n",
       "    </tr>\n",
       "    <tr>\n",
       "      <th>0.975</th>\n",
       "      <td>21.004873</td>\n",
       "    </tr>\n",
       "  </tbody>\n",
       "</table>\n",
       "</div>"
      ],
      "text/plain": [
       "               0\n",
       "0.025   0.342316\n",
       "0.975  21.004873"
      ]
     },
     "execution_count": 228,
     "metadata": {},
     "output_type": "execute_result"
    }
   ],
   "source": [
    "# Доверительный интервал прироста ARPAU\n",
    "active_booted_mean['ci']"
   ]
  },
  {
   "cell_type": "code",
   "execution_count": 229,
   "metadata": {},
   "outputs": [
    {
     "data": {
      "application/vnd.jupyter.widget-view+json": {
       "model_id": "770019b99ab7468d94d404976c592ad7",
       "version_major": 2,
       "version_minor": 0
      },
      "text/plain": [
       "HBox(children=(FloatProgress(value=0.0, max=10000.0), HTML(value='')))"
      ]
     },
     "metadata": {},
     "output_type": "display_data"
    },
    {
     "name": "stdout",
     "output_type": "stream",
     "text": [
      "\n"
     ]
    },
    {
     "data": {
      "image/png": "[encoded data removed]",
      "text/plain": [
       "<Figure size 576x360 with 1 Axes>"
      ]
     },
     "metadata": {},
     "output_type": "display_data"
    }
   ],
   "source": [
    "# bootstrap для средних значений ARPPU\n",
    "arppu_booted_mean = get_bootstrap(full_data.query('grp == \"B\" and rev > 0').rev,  # Тестовая группа\n",
    "                                  full_data.query('grp == \"A\" and rev > 0').rev,  # Контрольная группа\n",
    "                                  boot_it=10000,  # Количество бутстрэп-подвыборок\n",
    "                                  statistic=np.mean)  # Статистика для сравнения"
   ]
  },
  {
   "cell_type": "code",
   "execution_count": 230,
   "metadata": {},
   "outputs": [
    {
     "data": {
      "text/plain": [
       "3.4563942767200306e-06"
      ]
     },
     "execution_count": 230,
     "metadata": {},
     "output_type": "execute_result"
    }
   ],
   "source": [
    "# p-value различий ARPPU\n",
    "arppu_booted_mean['p_value']"
   ]
  },
  {
   "cell_type": "code",
   "execution_count": 231,
   "metadata": {},
   "outputs": [
    {
     "data": {
      "text/html": [
       "<div>\n",
       "<style scoped>\n",
       "    .dataframe tbody tr th:only-of-type {\n",
       "        vertical-align: middle;\n",
       "    }\n",
       "\n",
       "    .dataframe tbody tr th {\n",
       "        vertical-align: top;\n",
       "    }\n",
       "\n",
       "    .dataframe thead th {\n",
       "        text-align: right;\n",
       "    }\n",
       "</style>\n",
       "<table border=\"1\" class=\"dataframe\">\n",
       "  <thead>\n",
       "    <tr style=\"text-align: right;\">\n",
       "      <th></th>\n",
       "      <th>0</th>\n",
       "    </tr>\n",
       "  </thead>\n",
       "  <tbody>\n",
       "    <tr>\n",
       "      <th>0.025</th>\n",
       "      <td>142.220460</td>\n",
       "    </tr>\n",
       "    <tr>\n",
       "      <th>0.975</th>\n",
       "      <td>349.952541</td>\n",
       "    </tr>\n",
       "  </tbody>\n",
       "</table>\n",
       "</div>"
      ],
      "text/plain": [
       "                0\n",
       "0.025  142.220460\n",
       "0.975  349.952541"
      ]
     },
     "execution_count": 231,
     "metadata": {},
     "output_type": "execute_result"
    }
   ],
   "source": [
    "# Доверительный интервал прироста ARPPU\n",
    "arppu_booted_mean['ci']"
   ]
  },
  {
   "cell_type": "code",
   "execution_count": 232,
   "metadata": {},
   "outputs": [
    {
     "data": {
      "application/vnd.jupyter.widget-view+json": {
       "model_id": "9dc8def49c9f42e59bd2d4f4e2bdc28f",
       "version_major": 2,
       "version_minor": 0
      },
      "text/plain": [
       "HBox(children=(FloatProgress(value=0.0, max=10000.0), HTML(value='')))"
      ]
     },
     "metadata": {},
     "output_type": "display_data"
    },
    {
     "name": "stdout",
     "output_type": "stream",
     "text": [
      "\n"
     ]
    },
    {
     "data": {
      "image/png": "[encoded data removed]",
      "text/plain": [
       "<Figure size 576x360 with 1 Axes>"
      ]
     },
     "metadata": {},
     "output_type": "display_data"
    }
   ],
   "source": [
    "# bootstrap для медианных значений выручки с покупателя\n",
    "arppu_booted_median = get_bootstrap(full_data.query('grp == \"B\" and rev > 0').rev,  # Тестовая группа\n",
    "                                    full_data.query('grp == \"A\" and rev > 0').rev,  # Контрольная группа\n",
    "                                    boot_it=10000,  # Количество бутстрэп-подвыборок\n",
    "                                    statistic=np.median)  # Статистика для сравнения"
   ]
  },
  {
   "cell_type": "code",
   "execution_count": 233,
   "metadata": {},
   "outputs": [
    {
     "data": {
      "text/plain": [
       "0.0008339264400387106"
      ]
     },
     "execution_count": 233,
     "metadata": {},
     "output_type": "execute_result"
    }
   ],
   "source": [
    "# p-value различий медианных значений выручки с покупателя\n",
    "arppu_booted_median['p_value']"
   ]
  },
  {
   "cell_type": "code",
   "execution_count": 234,
   "metadata": {},
   "outputs": [
    {
     "data": {
      "text/html": [
       "<div>\n",
       "<style scoped>\n",
       "    .dataframe tbody tr th:only-of-type {\n",
       "        vertical-align: middle;\n",
       "    }\n",
       "\n",
       "    .dataframe tbody tr th {\n",
       "        vertical-align: top;\n",
       "    }\n",
       "\n",
       "    .dataframe thead th {\n",
       "        text-align: right;\n",
       "    }\n",
       "</style>\n",
       "<table border=\"1\" class=\"dataframe\">\n",
       "  <thead>\n",
       "    <tr style=\"text-align: right;\">\n",
       "      <th></th>\n",
       "      <th>0</th>\n",
       "    </tr>\n",
       "  </thead>\n",
       "  <tbody>\n",
       "    <tr>\n",
       "      <th>0.025</th>\n",
       "      <td>108.0</td>\n",
       "    </tr>\n",
       "    <tr>\n",
       "      <th>0.975</th>\n",
       "      <td>400.0</td>\n",
       "    </tr>\n",
       "  </tbody>\n",
       "</table>\n",
       "</div>"
      ],
      "text/plain": [
       "           0\n",
       "0.025  108.0\n",
       "0.975  400.0"
      ]
     },
     "execution_count": 234,
     "metadata": {},
     "output_type": "execute_result"
    }
   ],
   "source": [
    "# Доверительный интервал прироста медианных значений выручки с покупателя\n",
    "arppu_booted_median['ci']"
   ]
  },
  {
   "cell_type": "markdown",
   "metadata": {},
   "source": [
    "### Вывод:\n",
    "*Что мы имеем в итоге?*:\n",
    "- Снижение конверсии активных пользователей в покупку с 6.96% (контроль) до 6.38% (тест)\n",
    "- ARPU в тестовой группе выросло на 28.23%\n",
    "- ARPAU в тестовой группе вырос на 18.14%\n",
    "- ARPPU в тестовой группе вырос на 28.83%\n",
    "- Медианный чек покупателя в тестовой группе выросла на 35.51%\n",
    "\n",
    "Методом bootstrap мы выяснили, что различия ARPAU, ARPPU и медианных значений выручки с покупателя являются *статистически значимыми*:\n",
    "- ARPAU: \n",
    "    - pvalue: 0.039 < 0.05\n",
    "    - Доверительные интервал: [0.34, 21.00]\n",
    "- ARPPU:\n",
    "    - pvalue: 3.46*$10^{-6}$ < 0.05\n",
    "    - Доверительные интервал: [142.22, 349.95]\n",
    "- Медианное значение выручки с покупателя:\n",
    "    - pvalue: 0.0008 < 0.05\n",
    "    - Доверительные интервал: [108, 400]\n",
    "\n",
    "Также необходимо отметить, что распределение групп выглядит довольно странным (тестовая группа - 80%, контрольная группа - 20%) и есть пользователи, которые не были активными, но совершили покупку (возможно, это ложно повлияло на снижение конверсии среди активных пользователей).\n",
    "\n",
    "**Таким образом, не смотря на снижение конверсии, удалось статистически значимо увеличить ARPAU, ARPPU и медианное значение выручки с покупателя, что говорит нам об изменении метрик не только за счет выбросов в данных. Это произошло из-за увеличения среднего чека (на графиках распределения суммы чеков видно, что в тестовой группе сильно выросло процентное соотношение чеков на сумму ~ 2000).\n",
    "Новую механику рекомендуется запустить на всех пользователей.**"
   ]
  },
  {
   "cell_type": "markdown",
   "metadata": {},
   "source": [
    "## Задание 3. Python\n",
    "* Реализуйте функцию, которая будет автоматически подгружать информацию из дополнительного файла groups_add.csv (заголовки могут отличаться) и на основании дополнительных параметров пересчитывать метрики.\n",
    "* Реализуйте функцию, которая будет строить графики по получаемым метрикам."
   ]
  },
  {
   "cell_type": "markdown",
   "metadata": {},
   "source": [
    "### Функция добавления данных и пересчета метрик"
   ]
  },
  {
   "cell_type": "code",
   "execution_count": 39,
   "metadata": {},
   "outputs": [],
   "source": [
    "# Функция добавляет новые данные из groups_add.csv и пересчитывает метрики\n",
    "def add_new_data(groups_add_public_key, groups, active_studs, checks):\n",
    "    # Скачиваем данные с Яндекс.Диск с помощью функции read_data()\n",
    "    groups_add = read_data(groups_add_public_key, sep=',')\n",
    "    \n",
    "    # Объединем всех пользователе в общий DataFrame\n",
    "    full_groups = pd.concat([groups, groups_add.rename(columns={groups_add.columns[0]: 'id',\n",
    "                                                                groups_add.columns[1]: 'grp'})])\n",
    "    # Обновлем индексы\n",
    "    full_groups = full_groups.reset_index(drop=True)\n",
    "    \n",
    "    # Переименуем колонку student_id в id\n",
    "    active_studs.rename(columns={'student_id': 'id'}, inplace=True)\n",
    "    checks.rename(columns={'student_id': 'id'}, inplace=True)\n",
    "    \n",
    "    active_studs['active'] = 1\n",
    "    \n",
    "    # Полный df\n",
    "    df = full_groups.merge(active_studs, how='left').merge(checks, how='left').fillna(0)\n",
    "     \n",
    "    # Создаем таблицу с метриками\n",
    "    # Кол-во пользователей в каждой группе\n",
    "    metrics = df.groupby('grp', as_index=False).agg({'id': 'count'}).rename(columns={'id': 'users'})  \n",
    "    # Кол-во активных пользователей\n",
    "    metrics['active_users'] = df.query('active == 1').groupby('grp', as_index=False).agg({'id': 'count'}).id.values    \n",
    "    # Кол-во покупателей\n",
    "    metrics['buyers'] = df.query('rev > 0').groupby('grp', as_index=False).agg({'id': 'count'}).id.values    \n",
    "    # Общая выручка с каждой группы\n",
    "    metrics['revenue'] = df.groupby('grp', as_index=False).agg({'rev': 'sum'}).rev.values\n",
    "    # ARPU\n",
    "    metrics['ARPU'] = round(metrics.revenue / metrics.users, 2)    \n",
    "    # ARPAU\n",
    "    metrics['ARPAU'] = round(metrics.revenue / metrics.active_users, 2)    \n",
    "    # ARPPU\n",
    "    metrics['ARPPU'] = round(metrics.revenue / metrics.buyers, 2)    \n",
    "    # Медианный чек\n",
    "    metrics['median_check'] = full_data.query('rev > 0') \\\n",
    "        .groupby('grp', as_index=False) \\\n",
    "        .agg({'rev': 'median'}) \\\n",
    "        .rev.values    \n",
    "    # Конверсия пользователя в покупку\n",
    "    metrics['cr'] = round((metrics.buyers / metrics.users) * 100, 2)    \n",
    "    # Конверсия активного пользователя в покупку\n",
    "    metrics['cr_active'] = round((metrics.buyers / metrics.active_users) * 100, 2)   \n",
    "        \n",
    "    return metrics"
   ]
  },
  {
   "cell_type": "code",
   "execution_count": 40,
   "metadata": {},
   "outputs": [],
   "source": [
    "metrics = add_new_data(groups_add_public_key, groups, active_studs, checks)"
   ]
  },
  {
   "cell_type": "code",
   "execution_count": 41,
   "metadata": {},
   "outputs": [
    {
     "data": {
      "text/html": [
       "<div>\n",
       "<style scoped>\n",
       "    .dataframe tbody tr th:only-of-type {\n",
       "        vertical-align: middle;\n",
       "    }\n",
       "\n",
       "    .dataframe tbody tr th {\n",
       "        vertical-align: top;\n",
       "    }\n",
       "\n",
       "    .dataframe thead th {\n",
       "        text-align: right;\n",
       "    }\n",
       "</style>\n",
       "<table border=\"1\" class=\"dataframe\">\n",
       "  <thead>\n",
       "    <tr style=\"text-align: right;\">\n",
       "      <th></th>\n",
       "      <th>grp</th>\n",
       "      <th>users</th>\n",
       "      <th>active_users</th>\n",
       "      <th>buyers</th>\n",
       "      <th>revenue</th>\n",
       "      <th>ARPU</th>\n",
       "      <th>ARPAU</th>\n",
       "      <th>ARPPU</th>\n",
       "      <th>median_check</th>\n",
       "      <th>cr</th>\n",
       "      <th>cr_active</th>\n",
       "    </tr>\n",
       "  </thead>\n",
       "  <tbody>\n",
       "    <tr>\n",
       "      <th>0</th>\n",
       "      <td>A</td>\n",
       "      <td>14693</td>\n",
       "      <td>1538</td>\n",
       "      <td>107</td>\n",
       "      <td>92096.0000</td>\n",
       "      <td>6.27</td>\n",
       "      <td>59.88</td>\n",
       "      <td>860.71</td>\n",
       "      <td>690.0</td>\n",
       "      <td>0.73</td>\n",
       "      <td>6.96</td>\n",
       "    </tr>\n",
       "    <tr>\n",
       "      <th>1</th>\n",
       "      <td>B</td>\n",
       "      <td>59883</td>\n",
       "      <td>6803</td>\n",
       "      <td>434</td>\n",
       "      <td>481230.0036</td>\n",
       "      <td>8.04</td>\n",
       "      <td>70.74</td>\n",
       "      <td>1108.82</td>\n",
       "      <td>935.0</td>\n",
       "      <td>0.72</td>\n",
       "      <td>6.38</td>\n",
       "    </tr>\n",
       "  </tbody>\n",
       "</table>\n",
       "</div>"
      ],
      "text/plain": [
       "  grp  users  active_users  buyers      revenue  ARPU  ARPAU    ARPPU  \\\n",
       "0   A  14693          1538     107   92096.0000  6.27  59.88   860.71   \n",
       "1   B  59883          6803     434  481230.0036  8.04  70.74  1108.82   \n",
       "\n",
       "   median_check    cr  cr_active  \n",
       "0         690.0  0.73       6.96  \n",
       "1         935.0  0.72       6.38  "
      ]
     },
     "execution_count": 41,
     "metadata": {},
     "output_type": "execute_result"
    }
   ],
   "source": [
    "metrics"
   ]
  },
  {
   "cell_type": "markdown",
   "metadata": {},
   "source": [
    "### Функция построения графиков"
   ]
  },
  {
   "cell_type": "code",
   "execution_count": 83,
   "metadata": {},
   "outputs": [],
   "source": [
    "# Строим графики по полученным метрикам\n",
    "def get_plots(metrics):\n",
    "    # ARPU\n",
    "    plt.subplot(2, 3, 1)\n",
    "    bar = sns.barplot(y='ARPU', x='grp', data=metrics)\n",
    "    bar.axes.set_title(\"ARPU\", fontsize=16)\n",
    "    bar.set_xlabel(\"Группа\", fontsize=12)\n",
    "    bar.set_ylabel(\"Значения\", fontsize=12)\n",
    "    plt.xticks(fontsize=12)\n",
    "    plt.yticks(fontsize=12)\n",
    "    plt.tight_layout(w_pad=2)\n",
    "    \n",
    "    # ARPAU\n",
    "    plt.subplot(2, 3, 2)\n",
    "    bar = sns.barplot(y='ARPAU', x='grp', data=metrics)\n",
    "    bar.axes.set_title(\"ARPAU\", fontsize=16)\n",
    "    bar.set_xlabel(\"Группа\", fontsize=12)\n",
    "    bar.set_ylabel(\"Значения\", fontsize=12)\n",
    "    plt.xticks(fontsize=12)\n",
    "    plt.yticks(fontsize=12)\n",
    "    plt.tight_layout(w_pad=2)\n",
    "    \n",
    "    # ARPPU\n",
    "    plt.subplot(2, 3, 3)\n",
    "    bar = sns.barplot(y='ARPPU', x='grp', data=metrics)\n",
    "    bar.axes.set_title(\"ARPPU\", fontsize=16)\n",
    "    bar.set_xlabel(\"Группа\", fontsize=12)\n",
    "    bar.set_ylabel(\"Значения\", fontsize=12)\n",
    "    plt.xticks(fontsize=12)\n",
    "    plt.yticks(fontsize=12)\n",
    "    plt.tight_layout(w_pad=2)\n",
    "    \n",
    "    # Медианный чек\n",
    "    plt.subplot(2, 3, 4)\n",
    "    bar = sns.barplot(y='median_check', x='grp', data=metrics)\n",
    "    bar.axes.set_title(\"Медианный чек\", fontsize=16)\n",
    "    bar.set_xlabel(\"Группа\", fontsize=12)\n",
    "    bar.set_ylabel(\"Значения\", fontsize=12)\n",
    "    plt.xticks(fontsize=12)\n",
    "    plt.yticks(fontsize=12)\n",
    "    plt.tight_layout(w_pad=2)\n",
    "    \n",
    "    # Конверсия в покупку\n",
    "    plt.subplot(2, 3, 5)\n",
    "    bar = sns.barplot(y='cr', x='grp', data=metrics)\n",
    "    bar.axes.set_title(\"Конверсия пользователей\\n в покупку\", fontsize=16)\n",
    "    bar.set_xlabel(\"Группа\", fontsize=12)\n",
    "    bar.set_ylabel(\"Значения\", fontsize=12)\n",
    "    plt.xticks(fontsize=12)\n",
    "    plt.yticks(fontsize=12)\n",
    "    plt.tight_layout(w_pad=2)\n",
    "    \n",
    "    # Конверсия активных пользователей в покупку\n",
    "    plt.subplot(2, 3, 6)\n",
    "    bar = sns.barplot(y='cr_active', x='grp', data=metrics)\n",
    "    bar.axes.set_title(\"Конверсия активных\\n пользователей в покупку\", fontsize=16)\n",
    "    bar.set_xlabel(\"Группа\", fontsize=12)\n",
    "    bar.set_ylabel(\"Значения\", fontsize=12)\n",
    "    plt.xticks(fontsize=12)\n",
    "    plt.yticks(fontsize=12)\n",
    "    plt.tight_layout(w_pad=2)"
   ]
  },
  {
   "cell_type": "code",
   "execution_count": 85,
   "metadata": {},
   "outputs": [
    {
     "data": {
      "image/png": "[encoded data removed]",
      "text/plain": [
       "<Figure size 720x432 with 6 Axes>"
      ]
     },
     "metadata": {},
     "output_type": "display_data"
    }
   ],
   "source": [
    "# Применим функцию построения графиков\n",
    "get_plots(metrics)"
   ]
  }
 ],
 "metadata": {
  "kernelspec": {
   "display_name": "Python 3",
   "language": "python",
   "name": "python3"
  },
  "language_info": {
   "codemirror_mode": {
    "name": "ipython",
    "version": 3
   },
   "file_extension": ".py",
   "mimetype": "text/x-python",
   "name": "python",
   "nbconvert_exporter": "python",
   "pygments_lexer": "ipython3",
   "version": "3.7.3"
  }
 },
 "nbformat": 4,
 "nbformat_minor": 4
}
